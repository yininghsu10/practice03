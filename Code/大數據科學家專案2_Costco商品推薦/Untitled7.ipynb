{
 "cells": [
  {
   "cell_type": "code",
   "execution_count": 4,
   "id": "f5f52ca6",
   "metadata": {},
   "outputs": [
    {
     "data": {
      "text/plain": [
       "'ok'"
      ]
     },
     "execution_count": 4,
     "metadata": {},
     "output_type": "execute_result"
    }
   ],
   "source": [
    "import tkinter as tk\n",
    "from tkinter import messagebox\n",
    "\n",
    "root = tk.Tk()\n",
    "root.withdraw()\n",
    "messagebox.showinfo('系統提示', '資料已蒐集完畢，點擊「買什麼好呢」獲取推薦清單')\n"
   ]
  },
  {
   "cell_type": "code",
   "execution_count": null,
   "id": "47300fe1",
   "metadata": {},
   "outputs": [],
   "source": [
    "    #系統提示爬蟲完成------------------------------- \n",
    "    #爬蟲完成提醒\n",
    "    result=showinfo(\"提示\",\"資料爬蟲已完成\")\n",
    "    print(f'提示:{result}')"
   ]
  }
 ],
 "metadata": {
  "kernelspec": {
   "display_name": "Python 3 (ipykernel)",
   "language": "python",
   "name": "python3"
  },
  "language_info": {
   "codemirror_mode": {
    "name": "ipython",
    "version": 3
   },
   "file_extension": ".py",
   "mimetype": "text/x-python",
   "name": "python",
   "nbconvert_exporter": "python",
   "pygments_lexer": "ipython3",
   "version": "3.9.7"
  }
 },
 "nbformat": 4,
 "nbformat_minor": 5
}
